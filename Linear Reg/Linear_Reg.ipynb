{
 "cells": [
  {
   "cell_type": "code",
   "execution_count": 1,
   "id": "a4c96999",
   "metadata": {},
   "outputs": [],
   "source": [
    "import pandas as pd\n",
    "import numpy as np\n",
    "from sklearn.linear_model import LinearRegression\n",
    "from sklearn import metrics\n",
    "import matplotlib.pyplot as plt"
   ]
  },
  {
   "cell_type": "markdown",
   "id": "43e9480c",
   "metadata": {},
   "source": [
    "# Predict the World Bank Dataset without PCA"
   ]
  },
  {
   "cell_type": "code",
   "execution_count": 2,
   "id": "e8605304",
   "metadata": {},
   "outputs": [],
   "source": [
    "X_train = pd.read_csv('Datasets/World Bank Transformed/X_train without PCA.csv').values\n",
    "y_train = pd.read_csv('Datasets/World Bank Transformed/y_train.csv').values\n",
    "X_test = pd.read_csv('Datasets/World Bank Transformed/X_test without PCA.csv').values\n",
    "y_test = pd.read_csv('Datasets/World Bank Transformed/y_test.csv').values\n",
    "\n",
    "model = LinearRegression()\n",
    "model.fit(X_train, y_train)\n",
    "y_pred = model.predict(X_test)"
   ]
  },
  {
   "cell_type": "code",
   "execution_count": 3,
   "id": "b948518f",
   "metadata": {},
   "outputs": [
    {
     "name": "stdout",
     "output_type": "stream",
     "text": [
      "Mean Absolute Error: 0.7253896974050467\n",
      "\n",
      "Mean Squared Error: 0.8601419872544585\n",
      "\n",
      "R^2 Score: 0.9895329187638151 \n",
      "\n"
     ]
    }
   ],
   "source": [
    "WB_MAE = metrics.mean_absolute_error(y_test, y_pred)\n",
    "WB_MSE = metrics.mean_squared_error(y_test, y_pred)\n",
    "print('Mean Absolute Error:', WB_MAE)\n",
    "print('\\nMean Squared Error:', WB_MSE)  \n",
    "\n",
    "WB_R2 = model.score(X_test,y_test)\n",
    "print('\\nR^2 Score:', WB_R2, '\\n')\n"
   ]
  },
  {
   "cell_type": "markdown",
   "id": "e905290f",
   "metadata": {},
   "source": [
    "# Predict the World Bank Dataset with PCA"
   ]
  },
  {
   "cell_type": "code",
   "execution_count": 4,
   "id": "cc681ed9",
   "metadata": {},
   "outputs": [],
   "source": [
    "X_train = pd.read_csv('Datasets/World Bank Transformed/X_train with PCA.csv').values\n",
    "y_train = pd.read_csv('Datasets/World Bank Transformed/y_train.csv').values\n",
    "X_test = pd.read_csv('Datasets/World Bank Transformed/X_test with PCA.csv').values\n",
    "y_test = pd.read_csv('Datasets/World Bank Transformed/y_test.csv').values\n",
    "\n",
    "model = LinearRegression()\n",
    "model.fit(X_train, y_train)\n",
    "y_pred = model.predict(X_test)"
   ]
  },
  {
   "cell_type": "code",
   "execution_count": 5,
   "id": "894421ef",
   "metadata": {},
   "outputs": [
    {
     "name": "stdout",
     "output_type": "stream",
     "text": [
      "Mean Absolute Error: 1.7087409715254052\n",
      "\n",
      "Mean Squared Error: 4.870400269335707\n",
      "\n",
      "R^2 Score: 0.9407320232853693 \n",
      "\n"
     ]
    }
   ],
   "source": [
    "WB_PCA_MAE = metrics.mean_absolute_error(y_test, y_pred)\n",
    "WB_PCA_MSE = metrics.mean_squared_error(y_test, y_pred)\n",
    "print('Mean Absolute Error:', WB_PCA_MAE)\n",
    "print('\\nMean Squared Error:', WB_PCA_MSE) \n",
    "\n",
    "WB_PCA_R2 = model.score(X_test,y_test)\n",
    "print('\\nR^2 Score:', WB_PCA_R2, '\\n')\n",
    "\n"
   ]
  },
  {
   "cell_type": "markdown",
   "id": "5ce5c48e",
   "metadata": {},
   "source": [
    "# Predict the Kaggle Dataset without PCA"
   ]
  },
  {
   "cell_type": "code",
   "execution_count": 6,
   "id": "3935e003",
   "metadata": {},
   "outputs": [],
   "source": [
    "X_train = pd.read_csv('Datasets/Kaggle Transformed/X_train without PCA.csv').values\n",
    "y_train = pd.read_csv('Datasets/Kaggle Transformed/y_train.csv').values\n",
    "X_test = pd.read_csv('Datasets/Kaggle Transformed/X_test without PCA.csv').values\n",
    "y_test = pd.read_csv('Datasets/Kaggle Transformed/y_test.csv').values\n",
    "\n",
    "model = LinearRegression()\n",
    "model.fit(X_train, y_train)\n",
    "y_pred = model.predict(X_test)"
   ]
  },
  {
   "cell_type": "code",
   "execution_count": 7,
   "id": "8487d544",
   "metadata": {},
   "outputs": [
    {
     "name": "stdout",
     "output_type": "stream",
     "text": [
      "Mean Absolute Error: 2.521698829435405\n",
      "\n",
      "Mean Squared Error: 11.775440235272256\n",
      "\n",
      "R^2 Score: 0.8678234113603497 \n",
      "\n"
     ]
    }
   ],
   "source": [
    "KG_MAE = metrics.mean_absolute_error(y_test, y_pred)\n",
    "KG_MSE = metrics.mean_squared_error(y_test, y_pred)\n",
    "print('Mean Absolute Error:', KG_MAE)\n",
    "print('\\nMean Squared Error:', KG_MSE)  \n",
    "\n",
    "KG_R2 = model.score(X_test,y_test)\n",
    "print('\\nR^2 Score:', KG_R2, '\\n')\n",
    "\n"
   ]
  },
  {
   "cell_type": "markdown",
   "id": "bdf1109d",
   "metadata": {},
   "source": [
    "# Predict the Kaggle Dataset with PCA"
   ]
  },
  {
   "cell_type": "code",
   "execution_count": 8,
   "id": "db363cd3",
   "metadata": {},
   "outputs": [],
   "source": [
    "X_train = pd.read_csv('Datasets/Kaggle Transformed/X_train with PCA.csv').values\n",
    "y_train = pd.read_csv('Datasets/Kaggle Transformed/y_train.csv').values\n",
    "X_test = pd.read_csv('Datasets/Kaggle Transformed/X_test with PCA.csv').values\n",
    "y_test = pd.read_csv('Datasets/Kaggle Transformed/y_test.csv').values\n",
    "\n",
    "model = LinearRegression()\n",
    "model.fit(X_train, y_train)\n",
    "y_pred = model.predict(X_test)"
   ]
  },
  {
   "cell_type": "code",
   "execution_count": 9,
   "id": "9ccaa50c",
   "metadata": {},
   "outputs": [
    {
     "name": "stdout",
     "output_type": "stream",
     "text": [
      "Mean Absolute Error: 2.6868164763871825\n",
      "\n",
      "Mean Squared Error: 13.50945894997814\n",
      "\n",
      "R^2 Score: 0.848359453005689 \n",
      "\n"
     ]
    }
   ],
   "source": [
    "KG_PCA_MAE = metrics.mean_absolute_error(y_test, y_pred)\n",
    "KG_PCA_MSE = metrics.mean_squared_error(y_test, y_pred)\n",
    "print('Mean Absolute Error:', KG_PCA_MAE)\n",
    "print('\\nMean Squared Error:', KG_PCA_MSE)  \n",
    "\n",
    "KG_PCA_R2 = model.score(X_test,y_test)\n",
    "print('\\nR^2 Score:', KG_PCA_R2, '\\n')\n",
    "\n"
   ]
  },
  {
   "cell_type": "markdown",
   "id": "29e07a75",
   "metadata": {},
   "source": [
    "# Conclusion"
   ]
  },
  {
   "cell_type": "code",
   "execution_count": 10,
   "id": "d6c0ec2e",
   "metadata": {},
   "outputs": [
    {
     "data": {
      "text/html": [
       "<div>\n",
       "<style scoped>\n",
       "    .dataframe tbody tr th:only-of-type {\n",
       "        vertical-align: middle;\n",
       "    }\n",
       "\n",
       "    .dataframe tbody tr th {\n",
       "        vertical-align: top;\n",
       "    }\n",
       "\n",
       "    .dataframe thead th {\n",
       "        text-align: right;\n",
       "    }\n",
       "</style>\n",
       "<table border=\"1\" class=\"dataframe\">\n",
       "  <thead>\n",
       "    <tr style=\"text-align: right;\">\n",
       "      <th></th>\n",
       "      <th>World Bank without PCA</th>\n",
       "      <th>World Bank with PCA</th>\n",
       "      <th>Kaggle without PCA</th>\n",
       "      <th>Kaggle with PCA</th>\n",
       "    </tr>\n",
       "  </thead>\n",
       "  <tbody>\n",
       "    <tr>\n",
       "      <th>Mean Squared Error</th>\n",
       "      <td>0.860142</td>\n",
       "      <td>4.870400</td>\n",
       "      <td>11.775440</td>\n",
       "      <td>13.509459</td>\n",
       "    </tr>\n",
       "    <tr>\n",
       "      <th>Mean Absolute Error</th>\n",
       "      <td>0.725390</td>\n",
       "      <td>1.708741</td>\n",
       "      <td>2.521699</td>\n",
       "      <td>2.686816</td>\n",
       "    </tr>\n",
       "    <tr>\n",
       "      <th>R^2 Score</th>\n",
       "      <td>0.989533</td>\n",
       "      <td>0.940732</td>\n",
       "      <td>0.867823</td>\n",
       "      <td>0.848359</td>\n",
       "    </tr>\n",
       "  </tbody>\n",
       "</table>\n",
       "</div>"
      ],
      "text/plain": [
       "                     World Bank without PCA  World Bank with PCA  \\\n",
       "Mean Squared Error                 0.860142             4.870400   \n",
       "Mean Absolute Error                0.725390             1.708741   \n",
       "R^2 Score                          0.989533             0.940732   \n",
       "\n",
       "                     Kaggle without PCA  Kaggle with PCA  \n",
       "Mean Squared Error            11.775440        13.509459  \n",
       "Mean Absolute Error            2.521699         2.686816  \n",
       "R^2 Score                      0.867823         0.848359  "
      ]
     },
     "execution_count": 10,
     "metadata": {},
     "output_type": "execute_result"
    }
   ],
   "source": [
    "data = {\n",
    "    'World Bank without PCA': [WB_MSE, WB_MAE, WB_R2],\n",
    "    'World Bank with PCA': [WB_PCA_MSE, WB_PCA_MAE, WB_PCA_R2],\n",
    "    'Kaggle without PCA': [KG_MSE, KG_MAE, KG_R2],\n",
    "    'Kaggle with PCA': [KG_PCA_MSE, KG_PCA_MAE, KG_PCA_R2]\n",
    "}\n",
    "\n",
    "index_labels = ['Mean Squared Error', 'Mean Absolute Error', 'R^2 Score']\n",
    "\n",
    "df = pd.DataFrame(data, index=index_labels)\n",
    "\n",
    "df"
   ]
  },
  {
   "cell_type": "code",
   "execution_count": null,
   "id": "9369d665",
   "metadata": {},
   "outputs": [],
   "source": []
  }
 ],
 "metadata": {
  "kernelspec": {
   "display_name": "Python 3 (ipykernel)",
   "language": "python",
   "name": "python3"
  },
  "language_info": {
   "codemirror_mode": {
    "name": "ipython",
    "version": 3
   },
   "file_extension": ".py",
   "mimetype": "text/x-python",
   "name": "python",
   "nbconvert_exporter": "python",
   "pygments_lexer": "ipython3",
   "version": "3.11.5"
  }
 },
 "nbformat": 4,
 "nbformat_minor": 5
}
