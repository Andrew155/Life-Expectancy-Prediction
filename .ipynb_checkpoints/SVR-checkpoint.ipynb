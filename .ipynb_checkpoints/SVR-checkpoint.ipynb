{
 "cells": [
  {
   "cell_type": "code",
   "execution_count": 1,
   "id": "e925781b",
   "metadata": {},
   "outputs": [],
   "source": [
    "from sklearn.svm import SVR\n",
    "import pandas as pd\n",
    "import numpy as np\n",
    "from sklearn import metrics\n",
    "import matplotlib.pyplot as plt\n",
    "from sklearn.model_selection import GridSearchCV"
   ]
  },
  {
   "cell_type": "code",
   "execution_count": 2,
   "id": "8ce65b28",
   "metadata": {},
   "outputs": [],
   "source": [
    "param_grid = {\n",
    "    'kernel': ['linear', 'rbf'],\n",
    "    'C': [0.001, 0.01, 0.1, 1, 10, 100],\n",
    "    'gamma': [0.001, 0.01, 0.1, 1, 10, 100],\n",
    "    'epsilon': [0.01, 0.1, 0.5, 1.0, 2.0]\n",
    "}"
   ]
  },
  {
   "cell_type": "markdown",
   "id": "1d466fd4",
   "metadata": {},
   "source": [
    "# Predict the World Bank Dataset without PCA"
   ]
  },
  {
   "cell_type": "code",
   "execution_count": null,
   "id": "51e1a79e",
   "metadata": {},
   "outputs": [],
   "source": [
    "X_train = pd.read_csv('Datasets/World Bank Transformed/X_train without PCA.csv').values\n",
    "y_train = pd.read_csv('Datasets/World Bank Transformed/y_train.csv').values\n",
    "X_test = pd.read_csv('Datasets/World Bank Transformed/X_test without PCA.csv').values\n",
    "y_test = pd.read_csv('Datasets/World Bank Transformed/y_test.csv').values\n",
    "\n",
    "ridge_model = SVR()\n",
    "grid_search = GridSearchCV(ridge_model, param_grid, cv=5, scoring='r2')\n",
    "grid_search.fit(X_train, y_train.ravel())"
   ]
  },
  {
   "cell_type": "code",
   "execution_count": null,
   "id": "9b11ea28",
   "metadata": {},
   "outputs": [],
   "source": [
    "print(\"Best parameters:\", grid_search.best_params_)"
   ]
  },
  {
   "cell_type": "code",
   "execution_count": null,
   "id": "97dca281",
   "metadata": {},
   "outputs": [],
   "source": [
    "y_pred = grid_search.best_estimator_.predict(X_test)\n",
    "WB_MAE = metrics.mean_absolute_error(y_test, y_pred)\n",
    "WB_MSE = metrics.mean_squared_error(y_test, y_pred)\n",
    "print('Mean Absolute Error:', WB_MAE)\n",
    "print('\\nMean Squared Error:', WB_MSE) \n",
    "\n",
    "WB_R2 = metrics.r2_score(y_test, y_pred)\n",
    "print('\\nR^2 Score:', WB_R2, '\\n')"
   ]
  },
  {
   "cell_type": "markdown",
   "id": "fb3d86f3",
   "metadata": {},
   "source": [
    "# Predict the World Bank Dataset with PCA"
   ]
  },
  {
   "cell_type": "code",
   "execution_count": null,
   "id": "a8888a76",
   "metadata": {},
   "outputs": [],
   "source": [
    "X_train = pd.read_csv('Datasets/World Bank Transformed/X_train with PCA.csv').values\n",
    "y_train = pd.read_csv('Datasets/World Bank Transformed/y_train.csv').values\n",
    "X_test = pd.read_csv('Datasets/World Bank Transformed/X_test with PCA.csv').values\n",
    "y_test = pd.read_csv('Datasets/World Bank Transformed/y_test.csv').values\n",
    "\n",
    "ridge_model = SVR()\n",
    "grid_search = GridSearchCV(ridge_model, param_grid, cv=5, scoring='r2')\n",
    "grid_search.fit(X_train, y_train.ravel())"
   ]
  },
  {
   "cell_type": "code",
   "execution_count": null,
   "id": "a812b153",
   "metadata": {},
   "outputs": [],
   "source": [
    "print(\"Best parameters:\", grid_search.best_params_)"
   ]
  },
  {
   "cell_type": "code",
   "execution_count": null,
   "id": "d99989be",
   "metadata": {},
   "outputs": [],
   "source": [
    "y_pred = grid_search.best_estimator_.predict(X_test)\n",
    "WB_PCA_MAE = metrics.mean_absolute_error(y_test, y_pred)\n",
    "WB_PCA_MSE = metrics.mean_squared_error(y_test, y_pred)\n",
    "print('Mean Absolute Error:', WB_PCA_MAE)\n",
    "print('\\nMean Squared Error:', WB_PCA_MSE) \n",
    "\n",
    "WB_PCA_R2 = metrics.r2_score(y_test, y_pred)\n",
    "print('\\nR^2 Score:', WB_PCA_R2, '\\n')"
   ]
  },
  {
   "cell_type": "markdown",
   "id": "d31f55aa",
   "metadata": {},
   "source": [
    "# Predict the Kaggle Dataset without PCA"
   ]
  },
  {
   "cell_type": "code",
   "execution_count": null,
   "id": "d3831d41",
   "metadata": {},
   "outputs": [],
   "source": [
    "X_train = pd.read_csv('Datasets/Kaggle Transformed/X_train without PCA.csv').values\n",
    "y_train = pd.read_csv('Datasets/Kaggle Transformed/y_train.csv').values\n",
    "X_test = pd.read_csv('Datasets/Kaggle Transformed/X_test without PCA.csv').values\n",
    "y_test = pd.read_csv('Datasets/Kaggle Transformed/y_test.csv').values\n",
    "\n",
    "ridge_model = SVR()\n",
    "grid_search = GridSearchCV(ridge_model, param_grid, cv=5, scoring='r2')\n",
    "grid_search.fit(X_train, y_train.ravel())"
   ]
  },
  {
   "cell_type": "code",
   "execution_count": null,
   "id": "06520c11",
   "metadata": {},
   "outputs": [],
   "source": [
    "print(\"Best parameters:\", grid_search.best_params_)"
   ]
  },
  {
   "cell_type": "code",
   "execution_count": null,
   "id": "b9cb8c71",
   "metadata": {},
   "outputs": [],
   "source": [
    "y_pred = grid_search.best_estimator_.predict(X_test)\n",
    "KG_MAE = metrics.mean_absolute_error(y_test, y_pred)\n",
    "KG_MSE = metrics.mean_squared_error(y_test, y_pred)\n",
    "print('Mean Absolute Error:', KG_MAE)\n",
    "print('\\nMean Squared Error:', KG_MSE) \n",
    "\n",
    "KG_R2 = metrics.r2_score(y_test, y_pred)\n",
    "print('\\nR^2 Score:', KG_R2, '\\n')"
   ]
  },
  {
   "cell_type": "markdown",
   "id": "f855f148",
   "metadata": {},
   "source": [
    "# Predict the Kaggle Dataset with PCA"
   ]
  },
  {
   "cell_type": "code",
   "execution_count": null,
   "id": "1710a9ee",
   "metadata": {},
   "outputs": [],
   "source": [
    "X_train = pd.read_csv('Datasets/Kaggle Transformed/X_train with PCA.csv').values\n",
    "y_train = pd.read_csv('Datasets/Kaggle Transformed/y_train.csv').values\n",
    "X_test = pd.read_csv('Datasets/Kaggle Transformed/X_test with PCA.csv').values\n",
    "y_test = pd.read_csv('Datasets/Kaggle Transformed/y_test.csv').values\n",
    "\n",
    "ridge_model = SVR()\n",
    "grid_search = GridSearchCV(ridge_model, param_grid, cv=5, scoring='r2')\n",
    "grid_search.fit(X_train, y_train.ravel())"
   ]
  },
  {
   "cell_type": "code",
   "execution_count": null,
   "id": "3253515a",
   "metadata": {},
   "outputs": [],
   "source": [
    "print(\"Best parameters:\", grid_search.best_params_)"
   ]
  },
  {
   "cell_type": "code",
   "execution_count": null,
   "id": "7d41361f",
   "metadata": {},
   "outputs": [],
   "source": [
    "y_pred = grid_search.best_estimator_.predict(X_test)\n",
    "KG_PCA_MAE = metrics.mean_absolute_error(y_test, y_pred)\n",
    "KG_PCA_MSE = metrics.mean_squared_error(y_test, y_pred)\n",
    "print('Mean Absolute Error:', KG_PCA_MAE)\n",
    "print('\\nMean Squared Error:', KG_PCA_MSE) \n",
    "\n",
    "KG_PCA_R2 = metrics.r2_score(y_test, y_pred)\n",
    "print('\\nR^2 Score:', KG_PCA_R2, '\\n')"
   ]
  },
  {
   "cell_type": "code",
   "execution_count": null,
   "id": "96f6630e",
   "metadata": {},
   "outputs": [],
   "source": [
    "data = {\n",
    "    'World Bank without PCA': [WB_MSE, WB_MAE, WB_R2],\n",
    "    'World Bank with PCA': [WB_PCA_MSE, WB_PCA_MAE, WB_PCA_R2],\n",
    "    'Kaggle without PCA': [KG_MSE, KG_MAE, KG_R2],\n",
    "    'Kaggle with PCA': [KG_PCA_MSE, KG_PCA_MAE, KG_PCA_R2]\n",
    "}\n",
    "\n",
    "index_labels = ['Mean Squared Error', 'Mean Absolute Error', 'R^2 Score']\n",
    "\n",
    "df = pd.DataFrame(data, index=index_labels)\n",
    "\n",
    "df"
   ]
  },
  {
   "cell_type": "code",
   "execution_count": null,
   "id": "83b9e4d6",
   "metadata": {},
   "outputs": [],
   "source": []
  }
 ],
 "metadata": {
  "kernelspec": {
   "display_name": "Python 3 (ipykernel)",
   "language": "python",
   "name": "python3"
  },
  "language_info": {
   "codemirror_mode": {
    "name": "ipython",
    "version": 3
   },
   "file_extension": ".py",
   "mimetype": "text/x-python",
   "name": "python",
   "nbconvert_exporter": "python",
   "pygments_lexer": "ipython3",
   "version": "3.11.5"
  }
 },
 "nbformat": 4,
 "nbformat_minor": 5
}
